{
 "cells": [
  {
   "cell_type": "code",
   "execution_count": 4,
   "metadata": {
    "colab": {
     "base_uri": "https://localhost:8080/",
     "height": 120
    },
    "colab_type": "code",
    "id": "MICCbn35OALN",
    "outputId": "addfcb5a-9638-4671-88e9-dd448748d202"
   },
   "outputs": [],
   "source": [
    "\n",
    "#from google.colab import drive\n",
    "#drive.mount('/content/drive')"
   ]
  },
  {
   "cell_type": "code",
   "execution_count": 1,
   "metadata": {
    "colab": {},
    "colab_type": "code",
    "id": "jgcXrakjOM4H"
   },
   "outputs": [
    {
     "name": "stderr",
     "output_type": "stream",
     "text": [
      "Using TensorFlow backend.\n"
     ]
    }
   ],
   "source": [
    "import numpy as np\n",
    "import csv\n",
    "import matplotlib.pyplot as plt\n",
    "from sklearn.model_selection import train_test_split\n",
    "import keras\n",
    "from keras.layers import Dense, Dropout, Flatten, Input\n",
    "from keras.layers import Conv2D, MaxPooling2D\n",
    "from keras.layers.core import Activation\n",
    "from keras.models import Model\n",
    "from keras import backend as K\n",
    "from keras.utils import plot_model\n",
    "from keras.layers.merge import add, concatenate\n",
    "import cv2\n",
    "from keras.models import load_model"
   ]
  },
  {
   "cell_type": "code",
   "execution_count": 2,
   "metadata": {
    "colab": {},
    "colab_type": "code",
    "id": "V_bX5dl7OmK0"
   },
   "outputs": [],
   "source": [
    "def pre_process(path):  \n",
    "    label=[]\n",
    "    data=[]\n",
    "    with open(path, 'r') as csvFile:\n",
    "        reader = csv.reader(csvFile)# đọc file csv\n",
    "        next(reader)\n",
    "        for row in reader:# duyệt mỗi dòng\n",
    "            label.append(row[0])# lấy label tại cột thứ nhất của mỗi dòng\n",
    "            img=np.array(row[1:],dtype='float')/255.0# đọc dự liệu các cột còn lại của mỗi dòng\n",
    "            img.resize(28,28) # resize lại kích thước 28x28       \n",
    "            data.append(img)\n",
    "        data=np.array(data)\n",
    "        label=np.array(label,dtype='int')\n",
    "    return data, label   "
   ]
  },
  {
   "cell_type": "code",
   "execution_count": 3,
   "metadata": {
    "colab": {},
    "colab_type": "code",
    "id": "3OlDlK1ZOttE"
   },
   "outputs": [],
   "source": [
    "x_test, label_test=pre_process('fashion-mnist_test.csv')# đọc file test"
   ]
  },
  {
   "cell_type": "code",
   "execution_count": 4,
   "metadata": {
    "colab": {
     "base_uri": "https://localhost:8080/",
     "height": 286
    },
    "colab_type": "code",
    "id": "bQB2DiyNT0Ei",
    "outputId": "799e617f-0bec-441a-bbc3-229d45dd574f"
   },
   "outputs": [
    {
     "name": "stdout",
     "output_type": "stream",
     "text": [
      "label: 1\n"
     ]
    },
    {
     "data": {
      "image/png": "[encoded data removed]",
      "text/plain": [
       "<Figure size 432x288 with 1 Axes>"
      ]
     },
     "metadata": {
      "needs_background": "light"
     },
     "output_type": "display_data"
    }
   ],
   "source": [
    "print('label:',label_test[1])\n",
    "plt.imshow(x_test[1])\n",
    "plt.show()"
   ]
  },
  {
   "cell_type": "code",
   "execution_count": 5,
   "metadata": {
    "colab": {},
    "colab_type": "code",
    "id": "w2Nld27zPwap"
   },
   "outputs": [],
   "source": [
    "y_test = keras.utils.to_categorical(label_test, 10)\n",
    "#label_train=keras.utils.to_categorical(label_train, 10)"
   ]
  },
  {
   "cell_type": "code",
   "execution_count": 7,
   "metadata": {
    "colab": {
     "base_uri": "https://localhost:8080/",
     "height": 84
    },
    "colab_type": "code",
    "id": "GxuB6HNsOwqU",
    "outputId": "2b67f680-07ff-40de-985f-3ec1a59f8489"
   },
   "outputs": [
    {
     "name": "stdout",
     "output_type": "stream",
     "text": [
      "num test data:  10000\n",
      "shape:  (28, 28)\n"
     ]
    }
   ],
   "source": [
    "print('num test data: ', len(x_test))\n",
    "print('shape: ',x_test[1].shape)"
   ]
  },
  {
   "cell_type": "code",
   "execution_count": 11,
   "metadata": {
    "colab": {},
    "colab_type": "code",
    "id": "LBZDqzkvPi5a"
   },
   "outputs": [],
   "source": [
    "classes=10\n",
    "w=28\n",
    "h=28\n",
    "if K.image_data_format() == 'channels_first':\n",
    "    x_test = x_test.reshape(x_test.shape[0], w, h, 1)\n",
    "    #data_train = data_train.reshape(data_train.shape[0], w, h, 1)\n",
    "    input_shape = (1, w, h)\n",
    "else:\n",
    "    x_test = x_test.reshape(x_test.shape[0], w, h, 1)\n",
    "    #data_train = data_train.reshape(data_train.shape[0], w, h, 1)\n",
    "    input_shape = (w, h, 1)"
   ]
  },
  {
   "cell_type": "code",
   "execution_count": 12,
   "metadata": {
    "colab": {
     "base_uri": "https://localhost:8080/",
     "height": 669
    },
    "colab_type": "code",
    "id": "IlX2Hr1fQ6u1",
    "outputId": "ae7b018c-9143-4ee2-acbb-df19820a56d7"
   },
   "outputs": [
    {
     "name": "stdout",
     "output_type": "stream",
     "text": [
      "WARNING:tensorflow:From C:\\Users\\NYH\\Anaconda3\\lib\\site-packages\\tensorflow\\python\\framework\\op_def_library.py:263: colocate_with (from tensorflow.python.framework.ops) is deprecated and will be removed in a future version.\n",
      "Instructions for updating:\n",
      "Colocations handled automatically by placer.\n",
      "WARNING:tensorflow:From C:\\Users\\NYH\\Anaconda3\\lib\\site-packages\\keras\\backend\\tensorflow_backend.py:3445: calling dropout (from tensorflow.python.ops.nn_ops) with keep_prob is deprecated and will be removed in a future version.\n",
      "Instructions for updating:\n",
      "Please use `rate` instead of `keep_prob`. Rate should be set to `rate = 1 - keep_prob`.\n",
      "__________________________________________________________________________________________________\n",
      "Layer (type)                    Output Shape         Param #     Connected to                     \n",
      "==================================================================================================\n",
      "the_input (InputLayer)          (None, 28, 28, 1)    0                                            \n",
      "__________________________________________________________________________________________________\n",
      "conv1 (Conv2D)                  (None, 26, 26, 32)   320         the_input[0][0]                  \n",
      "__________________________________________________________________________________________________\n",
      "conv2 (Conv2D)                  (None, 24, 24, 64)   18496       conv1[0][0]                      \n",
      "__________________________________________________________________________________________________\n",
      "max1 (MaxPooling2D)             (None, 8, 8, 64)     0           conv2[0][0]                      \n",
      "__________________________________________________________________________________________________\n",
      "drop1 (Dropout)                 (None, 8, 8, 64)     0           max1[0][0]                       \n",
      "__________________________________________________________________________________________________\n",
      "conv3 (Conv2D)                  (None, 8, 8, 128)    73856       drop1[0][0]                      \n",
      "__________________________________________________________________________________________________\n",
      "conv4 (Conv2D)                  (None, 8, 8, 128)    73856       drop1[0][0]                      \n",
      "__________________________________________________________________________________________________\n",
      "concatenate_1 (Concatenate)     (None, 8, 8, 256)    0           conv3[0][0]                      \n",
      "                                                                 conv4[0][0]                      \n",
      "__________________________________________________________________________________________________\n",
      "drop2 (Dropout)                 (None, 8, 8, 256)    0           concatenate_1[0][0]              \n",
      "__________________________________________________________________________________________________\n",
      "flat1 (Flatten)                 (None, 16384)        0           drop2[0][0]                      \n",
      "__________________________________________________________________________________________________\n",
      "dense1 (Dense)                  (None, 128)          2097280     flat1[0][0]                      \n",
      "__________________________________________________________________________________________________\n",
      "drop3 (Dropout)                 (None, 128)          0           dense1[0][0]                     \n",
      "__________________________________________________________________________________________________\n",
      "dense2 (Dense)                  (None, 64)           8256        drop3[0][0]                      \n",
      "__________________________________________________________________________________________________\n",
      "drop4 (Dropout)                 (None, 64)           0           dense2[0][0]                     \n",
      "__________________________________________________________________________________________________\n",
      "dense_1 (Dense)                 (None, 10)           650         drop4[0][0]                      \n",
      "==================================================================================================\n",
      "Total params: 2,272,714\n",
      "Trainable params: 2,272,714\n",
      "Non-trainable params: 0\n",
      "__________________________________________________________________________________________________\n"
     ]
    }
   ],
   "source": [
    "\n",
    "## model 4\n",
    "input_data=Input(name='the_input',shape=input_shape,dtype='float32')\n",
    "\n",
    "inner=Conv2D(32,kernel_size=(3,3),activation='relu',name='conv1')(input_data)\n",
    "\n",
    "inner=Conv2D(64,kernel_size=(3,3),activation='relu',name='conv2')(inner)\n",
    "\n",
    "inner=MaxPooling2D(pool_size=(3,3), name='max1')(inner)\n",
    "\n",
    "inner=Dropout(0.25,name='drop1')(inner)\n",
    "\n",
    "inner1=Conv2D(128,kernel_size=(3,3),activation='relu',padding='same',name='conv3')(inner)\n",
    "\n",
    "inner2=Conv2D(128,kernel_size=(3,3),activation='relu',padding='same',name='conv4')(inner)\n",
    "\n",
    "inner=concatenate([inner1,inner2])\n",
    "\n",
    "inner=Dropout(0.5,name='drop2')(inner)\n",
    "\n",
    "inner=Flatten(name='flat1')(inner)\n",
    "\n",
    "inner=Dense(128,activation='relu',name='dense1')(inner)\n",
    "\n",
    "inner=Dropout(0.5,name='drop3')(inner)\n",
    "\n",
    "inner=Dense(64,activation='relu',name='dense2')(inner)\n",
    "\n",
    "inner=Dropout(0.5,name='drop4')(inner)\n",
    "\n",
    "output=Dense(10,activation='softmax')(inner)\n",
    "\n",
    "model=Model(inputs=input_data, outputs=output)\n",
    "\n",
    "model.summary()\n",
    "\n"
   ]
  },
  {
   "cell_type": "code",
   "execution_count": 13,
   "metadata": {
    "colab": {
     "base_uri": "https://localhost:8080/",
     "height": 1000
    },
    "colab_type": "code",
    "id": "SJDlHouIYXNi",
    "outputId": "39cb745a-5ed1-4c35-bc8d-4fb0847dccdd"
   },
   "outputs": [],
   "source": [
    "#plot_model(model, to_file='model.png', show_shapes=True)"
   ]
  },
  {
   "cell_type": "code",
   "execution_count": 13,
   "metadata": {
    "colab": {},
    "colab_type": "code",
    "id": "v7NkjTalX2JF"
   },
   "outputs": [],
   "source": [
    "model.compile(loss=keras.losses.categorical_crossentropy,\n",
    "              optimizer='adam',\n",
    "              metrics=['accuracy'])"
   ]
  },
  {
   "cell_type": "code",
   "execution_count": 14,
   "metadata": {
    "colab": {},
    "colab_type": "code",
    "id": "0y7yJBcl2HIW"
   },
   "outputs": [
    {
     "name": "stdout",
     "output_type": "stream",
     "text": [
      "WARNING:tensorflow:From C:\\Users\\NYH\\Anaconda3\\lib\\site-packages\\tensorflow\\python\\ops\\math_ops.py:3066: to_int32 (from tensorflow.python.ops.math_ops) is deprecated and will be removed in a future version.\n",
      "Instructions for updating:\n",
      "Use tf.cast instead.\n"
     ]
    }
   ],
   "source": [
    "model=load_model('model.h5')"
   ]
  },
  {
   "cell_type": "code",
   "execution_count": 15,
   "metadata": {
    "colab": {
     "base_uri": "https://localhost:8080/",
     "height": 67
    },
    "colab_type": "code",
    "id": "IBd78wMH5EEv",
    "outputId": "dfe4b4a8-51c2-4b9d-94f4-9f8891414ed4"
   },
   "outputs": [
    {
     "name": "stdout",
     "output_type": "stream",
     "text": [
      "model 4\n",
      "Test loss: 0.22439273035489024\n",
      "Test accuracy: 0.9426\n"
     ]
    }
   ],
   "source": [
    "print('model 4')\n",
    "score = model.evaluate(x_test, y_test, verbose=0)\n",
    "print('Test loss:', score[0])\n",
    "print('Test accuracy:', score[1])"
   ]
  },
  {
   "cell_type": "code",
   "execution_count": 0,
   "metadata": {
    "colab": {},
    "colab_type": "code",
    "id": "0EhF1a0a5IbA"
   },
   "outputs": [],
   "source": []
  }
 ],
 "metadata": {
  "accelerator": "GPU",
  "colab": {
   "collapsed_sections": [],
   "name": "Fashion.ipynb",
   "provenance": []
  },
  "kernelspec": {
   "display_name": "Python 3",
   "language": "python",
   "name": "python3"
  },
  "language_info": {
   "codemirror_mode": {
    "name": "ipython",
    "version": 3
   },
   "file_extension": ".py",
   "mimetype": "text/x-python",
   "name": "python",
   "nbconvert_exporter": "python",
   "pygments_lexer": "ipython3",
   "version": "3.7.3"
  }
 },
 "nbformat": 4,
 "nbformat_minor": 1
}
