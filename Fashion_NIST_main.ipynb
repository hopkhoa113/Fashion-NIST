{
 "cells": [
  {
   "cell_type": "code",
   "execution_count": 4,
   "metadata": {
    "colab": {
     "base_uri": "https://localhost:8080/",
     "height": 120
    },
    "colab_type": "code",
    "id": "MICCbn35OALN",
    "outputId": "addfcb5a-9638-4671-88e9-dd448748d202"
   },
   "outputs": [],
   "source": [
    "\n",
    "#from google.colab import drive\n",
    "#drive.mount('/content/drive')"
   ]
  },
  {
   "cell_type": "code",
   "execution_count": 2,
   "metadata": {
    "colab": {},
    "colab_type": "code",
    "id": "jgcXrakjOM4H"
   },
   "outputs": [
    {
     "name": "stderr",
     "output_type": "stream",
     "text": [
      "Using TensorFlow backend.\n"
     ]
    }
   ],
   "source": [
    "import numpy as np\n",
    "import csv\n",
    "import matplotlib.pyplot as plt\n",
    "from sklearn.model_selection import train_test_split\n",
    "import keras\n",
    "from keras.layers import Dense, Dropout, Flatten, Input\n",
    "from keras.layers import Conv2D, MaxPooling2D\n",
    "from keras.layers.core import Activation\n",
    "from keras.models import Model\n",
    "from keras import backend as K\n",
    "from keras.utils import plot_model\n",
    "from keras.layers.merge import add, concatenate\n",
    "import cv2\n",
    "from keras.models import load_model"
   ]
  },
  {
   "cell_type": "code",
   "execution_count": 5,
   "metadata": {
    "colab": {},
    "colab_type": "code",
    "id": "V_bX5dl7OmK0"
   },
   "outputs": [],
   "source": [
    "def pre_process(path):  \n",
    "    label=[]\n",
    "    data=[]\n",
    "    with open(path, 'r') as csvFile:\n",
    "        reader = csv.reader(csvFile)# đọc file csv\n",
    "        next(reader)\n",
    "        for row in reader:# duyệt mỗi dòng\n",
    "            label.append(row[0])# lấy label tại cột thứ nhất của mỗi dòng\n",
    "            img=np.array(row[1:],dtype='float')/255.0# đọc dự liệu các cột còn lại của mỗi dòng\n",
    "            img.resize(28,28) # resize lại kích thước 28x28       \n",
    "            data.append(img)\n",
    "        data=np.array(data)\n",
    "        label=np.array(label,dtype='int')\n",
    "    return data, label   "
   ]
  },
  {
   "cell_type": "code",
   "execution_count": 6,
   "metadata": {
    "colab": {},
    "colab_type": "code",
    "id": "3OlDlK1ZOttE"
   },
   "outputs": [],
   "source": [
    "data_train, label_train=pre_process('fashion-mnist_train.csv')# đọc file train\n",
    "x_test, label_test=pre_process('fashion-mnist_test.csv')# đọc file test"
   ]
  },
  {
   "cell_type": "code",
   "execution_count": 7,
   "metadata": {
    "colab": {
     "base_uri": "https://localhost:8080/",
     "height": 286
    },
    "colab_type": "code",
    "id": "bQB2DiyNT0Ei",
    "outputId": "799e617f-0bec-441a-bbc3-229d45dd574f"
   },
   "outputs": [
    {
     "name": "stdout",
     "output_type": "stream",
     "text": [
      "label: 9\n"
     ]
    },
    {
     "data": {
      "image/png": "[encoded data removed]",
      "text/plain": [
       "<Figure size 432x288 with 1 Axes>"
      ]
     },
     "metadata": {
      "needs_background": "light"
     },
     "output_type": "display_data"
    }
   ],
   "source": [
    "print('label:',label_train[1])\n",
    "plt.imshow(data_train[1])\n",
    "plt.show()"
   ]
  },
  {
   "cell_type": "code",
   "execution_count": 8,
   "metadata": {
    "colab": {},
    "colab_type": "code",
    "id": "w2Nld27zPwap"
   },
   "outputs": [],
   "source": [
    "x_train, x_val, y_train, y_val = train_test_split(data_train, label_train, test_size=0.2, random_state=42)\n",
    "\n",
    "y_train = keras.utils.to_categorical(y_train, 10)\n",
    "y_val = keras.utils.to_categorical(y_val, 10)\n",
    "y_test = keras.utils.to_categorical(label_test, 10)\n",
    "\n",
    "#label_train=keras.utils.to_categorical(label_train, 10)"
   ]
  },
  {
   "cell_type": "code",
   "execution_count": 9,
   "metadata": {
    "colab": {
     "base_uri": "https://localhost:8080/",
     "height": 84
    },
    "colab_type": "code",
    "id": "GxuB6HNsOwqU",
    "outputId": "2b67f680-07ff-40de-985f-3ec1a59f8489"
   },
   "outputs": [
    {
     "name": "stdout",
     "output_type": "stream",
     "text": [
      "num train data:  48000\n",
      "num val data:  12000\n",
      "num test data:  10000\n",
      "shape:  (28, 28)\n"
     ]
    }
   ],
   "source": [
    "print('num train data: ', len(x_train))\n",
    "print('num val data: ', len(x_val))\n",
    "print('num test data: ', len(x_test))\n",
    "print('shape: ',x_train[1].shape)"
   ]
  },
  {
   "cell_type": "code",
   "execution_count": 10,
   "metadata": {
    "colab": {},
    "colab_type": "code",
    "id": "LBZDqzkvPi5a"
   },
   "outputs": [],
   "source": [
    "classes=10\n",
    "w=28\n",
    "h=28\n",
    "if K.image_data_format() == 'channels_first':\n",
    "    x_train = x_train.reshape(x_train.shape[0], 1, w, h)\n",
    "    x_val = x_val.reshape(x_val.shape[0], 1, w, h)\n",
    "    x_test = x_test.reshape(x_test.shape[0], w, h, 1)\n",
    "    #data_train = data_train.reshape(data_train.shape[0], w, h, 1)\n",
    "    input_shape = (1, w, h)\n",
    "else:\n",
    "    x_train = x_train.reshape(x_train.shape[0], w, h, 1)\n",
    "    x_val = x_val.reshape(x_val.shape[0], w, h, 1)\n",
    "    x_test = x_test.reshape(x_test.shape[0], w, h, 1)\n",
    "    #data_train = data_train.reshape(data_train.shape[0], w, h, 1)\n",
    "    input_shape = (w, h, 1)"
   ]
  },
  {
   "cell_type": "code",
   "execution_count": 11,
   "metadata": {
    "colab": {
     "base_uri": "https://localhost:8080/",
     "height": 669
    },
    "colab_type": "code",
    "id": "IlX2Hr1fQ6u1",
    "outputId": "ae7b018c-9143-4ee2-acbb-df19820a56d7"
   },
   "outputs": [
    {
     "name": "stdout",
     "output_type": "stream",
     "text": [
      "WARNING:tensorflow:From C:\\Users\\NYH\\Anaconda3\\lib\\site-packages\\tensorflow\\python\\framework\\op_def_library.py:263: colocate_with (from tensorflow.python.framework.ops) is deprecated and will be removed in a future version.\n",
      "Instructions for updating:\n",
      "Colocations handled automatically by placer.\n",
      "WARNING:tensorflow:From C:\\Users\\NYH\\Anaconda3\\lib\\site-packages\\keras\\backend\\tensorflow_backend.py:3445: calling dropout (from tensorflow.python.ops.nn_ops) with keep_prob is deprecated and will be removed in a future version.\n",
      "Instructions for updating:\n",
      "Please use `rate` instead of `keep_prob`. Rate should be set to `rate = 1 - keep_prob`.\n",
      "__________________________________________________________________________________________________\n",
      "Layer (type)                    Output Shape         Param #     Connected to                     \n",
      "==================================================================================================\n",
      "the_input (InputLayer)          (None, 28, 28, 1)    0                                            \n",
      "__________________________________________________________________________________________________\n",
      "conv1 (Conv2D)                  (None, 26, 26, 32)   320         the_input[0][0]                  \n",
      "__________________________________________________________________________________________________\n",
      "conv2 (Conv2D)                  (None, 24, 24, 64)   18496       conv1[0][0]                      \n",
      "__________________________________________________________________________________________________\n",
      "max1 (MaxPooling2D)             (None, 8, 8, 64)     0           conv2[0][0]                      \n",
      "__________________________________________________________________________________________________\n",
      "drop1 (Dropout)                 (None, 8, 8, 64)     0           max1[0][0]                       \n",
      "__________________________________________________________________________________________________\n",
      "conv3 (Conv2D)                  (None, 8, 8, 128)    73856       drop1[0][0]                      \n",
      "__________________________________________________________________________________________________\n",
      "conv4 (Conv2D)                  (None, 8, 8, 128)    73856       drop1[0][0]                      \n",
      "__________________________________________________________________________________________________\n",
      "concatenate_1 (Concatenate)     (None, 8, 8, 256)    0           conv3[0][0]                      \n",
      "                                                                 conv4[0][0]                      \n",
      "__________________________________________________________________________________________________\n",
      "drop2 (Dropout)                 (None, 8, 8, 256)    0           concatenate_1[0][0]              \n",
      "__________________________________________________________________________________________________\n",
      "flat1 (Flatten)                 (None, 16384)        0           drop2[0][0]                      \n",
      "__________________________________________________________________________________________________\n",
      "dense1 (Dense)                  (None, 128)          2097280     flat1[0][0]                      \n",
      "__________________________________________________________________________________________________\n",
      "drop3 (Dropout)                 (None, 128)          0           dense1[0][0]                     \n",
      "__________________________________________________________________________________________________\n",
      "dense2 (Dense)                  (None, 64)           8256        drop3[0][0]                      \n",
      "__________________________________________________________________________________________________\n",
      "drop4 (Dropout)                 (None, 64)           0           dense2[0][0]                     \n",
      "__________________________________________________________________________________________________\n",
      "dense_1 (Dense)                 (None, 10)           650         drop4[0][0]                      \n",
      "==================================================================================================\n",
      "Total params: 2,272,714\n",
      "Trainable params: 2,272,714\n",
      "Non-trainable params: 0\n",
      "__________________________________________________________________________________________________\n"
     ]
    }
   ],
   "source": [
    "\n",
    "## model 4\n",
    "input_data=Input(name='the_input',shape=input_shape,dtype='float32')\n",
    "\n",
    "inner=Conv2D(32,kernel_size=(3,3),activation='relu',name='conv1')(input_data)\n",
    "\n",
    "inner=Conv2D(64,kernel_size=(3,3),activation='relu',name='conv2')(inner)\n",
    "\n",
    "inner=MaxPooling2D(pool_size=(3,3), name='max1')(inner)\n",
    "\n",
    "inner=Dropout(0.25,name='drop1')(inner)\n",
    "\n",
    "inner1=Conv2D(128,kernel_size=(3,3),activation='relu',padding='same',name='conv3')(inner)\n",
    "\n",
    "inner2=Conv2D(128,kernel_size=(3,3),activation='relu',padding='same',name='conv4')(inner)\n",
    "\n",
    "inner=concatenate([inner1,inner2])\n",
    "\n",
    "inner=Dropout(0.5,name='drop2')(inner)\n",
    "\n",
    "inner=Flatten(name='flat1')(inner)\n",
    "\n",
    "inner=Dense(128,activation='relu',name='dense1')(inner)\n",
    "\n",
    "inner=Dropout(0.5,name='drop3')(inner)\n",
    "\n",
    "inner=Dense(64,activation='relu',name='dense2')(inner)\n",
    "\n",
    "inner=Dropout(0.5,name='drop4')(inner)\n",
    "\n",
    "output=Dense(10,activation='softmax')(inner)\n",
    "\n",
    "model=Model(inputs=input_data, outputs=output)\n",
    "\n",
    "model.summary()\n",
    "\n"
   ]
  },
  {
   "cell_type": "code",
   "execution_count": 13,
   "metadata": {
    "colab": {
     "base_uri": "https://localhost:8080/",
     "height": 1000
    },
    "colab_type": "code",
    "id": "SJDlHouIYXNi",
    "outputId": "39cb745a-5ed1-4c35-bc8d-4fb0847dccdd"
   },
   "outputs": [],
   "source": [
    "#plot_model(model, to_file='model.png', show_shapes=True)"
   ]
  },
  {
   "cell_type": "code",
   "execution_count": 14,
   "metadata": {
    "colab": {},
    "colab_type": "code",
    "id": "v7NkjTalX2JF"
   },
   "outputs": [],
   "source": [
    "model.compile(loss=keras.losses.categorical_crossentropy,\n",
    "              optimizer='adam',\n",
    "              metrics=['accuracy'])"
   ]
  },
  {
   "cell_type": "code",
   "execution_count": 24,
   "metadata": {
    "colab": {
     "base_uri": "https://localhost:8080/",
     "height": 1000
    },
    "colab_type": "code",
    "id": "u1hrM1WOX4Ef",
    "outputId": "ff3efa02-f54e-47a6-f22b-a489c14d7dc5"
   },
   "outputs": [
    {
     "name": "stdout",
     "output_type": "stream",
     "text": [
      "Train on 48000 samples, validate on 12000 samples\n",
      "Epoch 1/64\n",
      "48000/48000 [==============================] - 12s 243us/step - loss: 0.1489 - acc: 0.9485 - val_loss: 0.2247 - val_acc: 0.9316\n",
      "Epoch 2/64\n",
      "48000/48000 [==============================] - 12s 240us/step - loss: 0.1469 - acc: 0.9489 - val_loss: 0.2126 - val_acc: 0.9346\n",
      "Epoch 3/64\n",
      "48000/48000 [==============================] - 11s 239us/step - loss: 0.1382 - acc: 0.9504 - val_loss: 0.2248 - val_acc: 0.9309\n",
      "Epoch 4/64\n",
      "48000/48000 [==============================] - 12s 241us/step - loss: 0.1357 - acc: 0.9520 - val_loss: 0.2154 - val_acc: 0.9344\n",
      "Epoch 5/64\n",
      "48000/48000 [==============================] - 12s 240us/step - loss: 0.1380 - acc: 0.9517 - val_loss: 0.2084 - val_acc: 0.9328\n",
      "Epoch 6/64\n",
      "48000/48000 [==============================] - 12s 242us/step - loss: 0.1337 - acc: 0.9523 - val_loss: 0.2180 - val_acc: 0.9351\n",
      "Epoch 7/64\n",
      "48000/48000 [==============================] - 12s 242us/step - loss: 0.1361 - acc: 0.9515 - val_loss: 0.2196 - val_acc: 0.9297\n",
      "Epoch 8/64\n",
      "48000/48000 [==============================] - 11s 238us/step - loss: 0.1296 - acc: 0.9549 - val_loss: 0.2256 - val_acc: 0.9342\n",
      "Epoch 9/64\n",
      "48000/48000 [==============================] - 11s 239us/step - loss: 0.1333 - acc: 0.9536 - val_loss: 0.2107 - val_acc: 0.9335\n",
      "Epoch 10/64\n",
      "48000/48000 [==============================] - 12s 240us/step - loss: 0.1268 - acc: 0.9543 - val_loss: 0.2198 - val_acc: 0.9325\n",
      "Epoch 11/64\n",
      "48000/48000 [==============================] - 12s 240us/step - loss: 0.1315 - acc: 0.9547 - val_loss: 0.2317 - val_acc: 0.9295\n",
      "Epoch 12/64\n",
      "48000/48000 [==============================] - 11s 239us/step - loss: 0.1282 - acc: 0.9560 - val_loss: 0.2157 - val_acc: 0.9361\n",
      "Epoch 13/64\n",
      "48000/48000 [==============================] - 12s 241us/step - loss: 0.1281 - acc: 0.9545 - val_loss: 0.2347 - val_acc: 0.9312\n",
      "Epoch 14/64\n",
      "48000/48000 [==============================] - 12s 241us/step - loss: 0.1302 - acc: 0.9551 - val_loss: 0.2218 - val_acc: 0.9368\n",
      "Epoch 15/64\n",
      "48000/48000 [==============================] - 12s 240us/step - loss: 0.1238 - acc: 0.9572 - val_loss: 0.2227 - val_acc: 0.9357\n",
      "Epoch 16/64\n",
      "48000/48000 [==============================] - 11s 239us/step - loss: 0.1295 - acc: 0.9556 - val_loss: 0.2225 - val_acc: 0.9342\n",
      "Epoch 17/64\n",
      "48000/48000 [==============================] - 12s 240us/step - loss: 0.1222 - acc: 0.9568 - val_loss: 0.2261 - val_acc: 0.9346\n",
      "Epoch 18/64\n",
      "48000/48000 [==============================] - 11s 238us/step - loss: 0.1219 - acc: 0.9576 - val_loss: 0.2170 - val_acc: 0.9353\n",
      "Epoch 19/64\n",
      "48000/48000 [==============================] - 12s 240us/step - loss: 0.1215 - acc: 0.9574 - val_loss: 0.2226 - val_acc: 0.9347\n",
      "Epoch 20/64\n",
      "48000/48000 [==============================] - 12s 240us/step - loss: 0.1237 - acc: 0.9567 - val_loss: 0.2332 - val_acc: 0.9343\n",
      "Epoch 21/64\n",
      "48000/48000 [==============================] - 11s 239us/step - loss: 0.1235 - acc: 0.9582 - val_loss: 0.2159 - val_acc: 0.9368\n",
      "Epoch 22/64\n",
      "48000/48000 [==============================] - 12s 241us/step - loss: 0.1173 - acc: 0.9592 - val_loss: 0.2213 - val_acc: 0.9360\n",
      "Epoch 23/64\n",
      "48000/48000 [==============================] - 12s 241us/step - loss: 0.1198 - acc: 0.9591 - val_loss: 0.2393 - val_acc: 0.9353\n",
      "Epoch 24/64\n",
      "48000/48000 [==============================] - 12s 243us/step - loss: 0.1196 - acc: 0.9595 - val_loss: 0.2210 - val_acc: 0.9336\n",
      "Epoch 25/64\n",
      "48000/48000 [==============================] - 12s 241us/step - loss: 0.1157 - acc: 0.9590 - val_loss: 0.2255 - val_acc: 0.9350\n",
      "Epoch 26/64\n",
      "48000/48000 [==============================] - 11s 239us/step - loss: 0.1145 - acc: 0.9600 - val_loss: 0.2339 - val_acc: 0.9351\n",
      "Epoch 27/64\n",
      "48000/48000 [==============================] - 12s 241us/step - loss: 0.1186 - acc: 0.9581 - val_loss: 0.2228 - val_acc: 0.9335\n",
      "Epoch 28/64\n",
      "48000/48000 [==============================] - 12s 240us/step - loss: 0.1168 - acc: 0.9590 - val_loss: 0.2342 - val_acc: 0.9303\n",
      "Epoch 29/64\n",
      "48000/48000 [==============================] - 12s 241us/step - loss: 0.1183 - acc: 0.9580 - val_loss: 0.2381 - val_acc: 0.9328\n",
      "Epoch 30/64\n",
      "48000/48000 [==============================] - 12s 241us/step - loss: 0.1136 - acc: 0.9607 - val_loss: 0.2230 - val_acc: 0.9337\n",
      "Epoch 31/64\n",
      "48000/48000 [==============================] - 11s 239us/step - loss: 0.1136 - acc: 0.9614 - val_loss: 0.2302 - val_acc: 0.9350\n",
      "Epoch 32/64\n",
      "48000/48000 [==============================] - 11s 238us/step - loss: 0.1133 - acc: 0.9591 - val_loss: 0.2255 - val_acc: 0.9325\n",
      "Epoch 33/64\n",
      "48000/48000 [==============================] - 12s 240us/step - loss: 0.1100 - acc: 0.9620 - val_loss: 0.2320 - val_acc: 0.9343\n",
      "Epoch 34/64\n",
      "48000/48000 [==============================] - 12s 241us/step - loss: 0.1135 - acc: 0.9617 - val_loss: 0.2337 - val_acc: 0.9340\n",
      "Epoch 35/64\n",
      "48000/48000 [==============================] - 11s 239us/step - loss: 0.1117 - acc: 0.9620 - val_loss: 0.2398 - val_acc: 0.9328\n",
      "Epoch 36/64\n",
      "48000/48000 [==============================] - 11s 240us/step - loss: 0.1065 - acc: 0.9631 - val_loss: 0.2588 - val_acc: 0.9326\n",
      "Epoch 37/64\n",
      "48000/48000 [==============================] - 12s 240us/step - loss: 0.1093 - acc: 0.9628 - val_loss: 0.2423 - val_acc: 0.9360\n",
      "Epoch 38/64\n",
      "48000/48000 [==============================] - 12s 241us/step - loss: 0.1122 - acc: 0.9615 - val_loss: 0.2496 - val_acc: 0.9334\n",
      "Epoch 39/64\n",
      "48000/48000 [==============================] - 12s 242us/step - loss: 0.1079 - acc: 0.9627 - val_loss: 0.2545 - val_acc: 0.9342\n",
      "Epoch 40/64\n",
      "48000/48000 [==============================] - 11s 239us/step - loss: 0.1078 - acc: 0.9627 - val_loss: 0.2352 - val_acc: 0.9345\n",
      "Epoch 41/64\n",
      "48000/48000 [==============================] - 11s 239us/step - loss: 0.1084 - acc: 0.9627 - val_loss: 0.2438 - val_acc: 0.9334\n",
      "Epoch 42/64\n",
      "48000/48000 [==============================] - 11s 238us/step - loss: 0.1093 - acc: 0.9618 - val_loss: 0.2417 - val_acc: 0.9354\n",
      "Epoch 43/64\n",
      "48000/48000 [==============================] - 11s 238us/step - loss: 0.1065 - acc: 0.9639 - val_loss: 0.2457 - val_acc: 0.9357\n",
      "Epoch 44/64\n",
      "48000/48000 [==============================] - 11s 238us/step - loss: 0.1048 - acc: 0.9630 - val_loss: 0.2343 - val_acc: 0.9344\n",
      "Epoch 45/64\n",
      "48000/48000 [==============================] - 11s 238us/step - loss: 0.1074 - acc: 0.9630 - val_loss: 0.2432 - val_acc: 0.9331\n",
      "Epoch 46/64\n",
      "48000/48000 [==============================] - 11s 238us/step - loss: 0.1059 - acc: 0.9642 - val_loss: 0.2490 - val_acc: 0.9317\n",
      "Epoch 47/64\n",
      "48000/48000 [==============================] - 11s 239us/step - loss: 0.1040 - acc: 0.9640 - val_loss: 0.2448 - val_acc: 0.9355\n",
      "Epoch 48/64\n",
      "48000/48000 [==============================] - 11s 239us/step - loss: 0.1028 - acc: 0.9652 - val_loss: 0.2389 - val_acc: 0.9347\n",
      "Epoch 49/64\n",
      "48000/48000 [==============================] - 11s 239us/step - loss: 0.1036 - acc: 0.9639 - val_loss: 0.2448 - val_acc: 0.9339\n",
      "Epoch 50/64\n",
      "48000/48000 [==============================] - 11s 239us/step - loss: 0.1027 - acc: 0.9645 - val_loss: 0.2403 - val_acc: 0.9346\n",
      "Epoch 51/64\n",
      "48000/48000 [==============================] - 12s 240us/step - loss: 0.1043 - acc: 0.9638 - val_loss: 0.2352 - val_acc: 0.9360\n",
      "Epoch 52/64\n",
      "48000/48000 [==============================] - 12s 240us/step - loss: 0.0972 - acc: 0.9659 - val_loss: 0.2395 - val_acc: 0.9370\n",
      "Epoch 53/64\n",
      "48000/48000 [==============================] - 11s 239us/step - loss: 0.1014 - acc: 0.9654 - val_loss: 0.2368 - val_acc: 0.9352\n",
      "Epoch 54/64\n",
      "48000/48000 [==============================] - 11s 239us/step - loss: 0.1033 - acc: 0.9640 - val_loss: 0.2392 - val_acc: 0.9357\n",
      "Epoch 55/64\n",
      "48000/48000 [==============================] - 11s 239us/step - loss: 0.1020 - acc: 0.9638 - val_loss: 0.2686 - val_acc: 0.9334\n",
      "Epoch 56/64\n",
      "48000/48000 [==============================] - 11s 239us/step - loss: 0.1035 - acc: 0.9656 - val_loss: 0.2435 - val_acc: 0.9357\n",
      "Epoch 57/64\n",
      "48000/48000 [==============================] - 12s 240us/step - loss: 0.0959 - acc: 0.9678 - val_loss: 0.2527 - val_acc: 0.9353\n",
      "Epoch 58/64\n",
      "48000/48000 [==============================] - 12s 240us/step - loss: 0.0980 - acc: 0.9673 - val_loss: 0.2542 - val_acc: 0.9352\n",
      "Epoch 59/64\n",
      "48000/48000 [==============================] - 12s 240us/step - loss: 0.0951 - acc: 0.9673 - val_loss: 0.2534 - val_acc: 0.9343\n",
      "Epoch 60/64\n",
      "48000/48000 [==============================] - 12s 241us/step - loss: 0.1009 - acc: 0.9651 - val_loss: 0.2450 - val_acc: 0.9349\n",
      "Epoch 61/64\n",
      "48000/48000 [==============================] - 12s 240us/step - loss: 0.0975 - acc: 0.9670 - val_loss: 0.2427 - val_acc: 0.9341\n",
      "Epoch 62/64\n",
      "48000/48000 [==============================] - 11s 238us/step - loss: 0.0972 - acc: 0.9661 - val_loss: 0.2525 - val_acc: 0.9321\n",
      "Epoch 63/64\n",
      "48000/48000 [==============================] - 11s 238us/step - loss: 0.0968 - acc: 0.9673 - val_loss: 0.2477 - val_acc: 0.9331\n",
      "Epoch 64/64\n",
      "48000/48000 [==============================] - 11s 239us/step - loss: 0.0968 - acc: 0.9669 - val_loss: 0.2482 - val_acc: 0.9366\n"
     ]
    },
    {
     "data": {
      "text/plain": [
       "<keras.callbacks.History at 0x7f8960a6b160>"
      ]
     },
     "execution_count": 24,
     "metadata": {
      "tags": []
     },
     "output_type": "execute_result"
    }
   ],
   "source": [
    "model.fit(x_train, y_train,\n",
    "          batch_size=128,\n",
    "          epochs=64,\n",
    "          verbose=1,\n",
    "          validation_data=(x_val, y_val))"
   ]
  },
  {
   "cell_type": "code",
   "execution_count": 35,
   "metadata": {
    "colab": {
     "base_uri": "https://localhost:8080/",
     "height": 67
    },
    "colab_type": "code",
    "id": "Lj2biSvub2hM",
    "outputId": "65f1d5e8-913f-441f-f823-a477779c648e"
   },
   "outputs": [
    {
     "name": "stdout",
     "output_type": "stream",
     "text": [
      "model 4\n",
      "Test loss: 0.22439276351677254\n",
      "Test accuracy: 0.9426\n"
     ]
    }
   ],
   "source": [
    "print('model 4')\n",
    "score = model.evaluate(x_test, y_test, verbose=0)\n",
    "print('Test loss:', score[0])\n",
    "print('Test accuracy:', score[1])"
   ]
  },
  {
   "cell_type": "code",
   "execution_count": 0,
   "metadata": {
    "colab": {},
    "colab_type": "code",
    "id": "iPlx10sheC3T"
   },
   "outputs": [],
   "source": [
    "model.save('model.h5')"
   ]
  },
  {
   "cell_type": "code",
   "execution_count": 15,
   "metadata": {
    "colab": {},
    "colab_type": "code",
    "id": "0y7yJBcl2HIW"
   },
   "outputs": [
    {
     "name": "stdout",
     "output_type": "stream",
     "text": [
      "WARNING:tensorflow:From C:\\Users\\NYH\\Anaconda3\\lib\\site-packages\\tensorflow\\python\\ops\\math_ops.py:3066: to_int32 (from tensorflow.python.ops.math_ops) is deprecated and will be removed in a future version.\n",
      "Instructions for updating:\n",
      "Use tf.cast instead.\n"
     ]
    }
   ],
   "source": [
    "x=load_model('model.h5')"
   ]
  },
  {
   "cell_type": "code",
   "execution_count": 16,
   "metadata": {
    "colab": {
     "base_uri": "https://localhost:8080/",
     "height": 67
    },
    "colab_type": "code",
    "id": "IBd78wMH5EEv",
    "outputId": "dfe4b4a8-51c2-4b9d-94f4-9f8891414ed4"
   },
   "outputs": [
    {
     "name": "stdout",
     "output_type": "stream",
     "text": [
      "model 4\n",
      "Test loss: 0.22439273035489024\n",
      "Test accuracy: 0.9426\n"
     ]
    }
   ],
   "source": [
    "print('model 4')\n",
    "score = x.evaluate(x_test, y_test, verbose=0)\n",
    "print('Test loss:', score[0])\n",
    "print('Test accuracy:', score[1])"
   ]
  },
  {
   "cell_type": "code",
   "execution_count": 0,
   "metadata": {
    "colab": {},
    "colab_type": "code",
    "id": "0EhF1a0a5IbA"
   },
   "outputs": [],
   "source": []
  }
 ],
 "metadata": {
  "accelerator": "GPU",
  "colab": {
   "collapsed_sections": [],
   "name": "Fashion.ipynb",
   "provenance": []
  },
  "kernelspec": {
   "display_name": "Python 3",
   "language": "python",
   "name": "python3"
  },
  "language_info": {
   "codemirror_mode": {
    "name": "ipython",
    "version": 3
   },
   "file_extension": ".py",
   "mimetype": "text/x-python",
   "name": "python",
   "nbconvert_exporter": "python",
   "pygments_lexer": "ipython3",
   "version": "3.7.3"
  }
 },
 "nbformat": 4,
 "nbformat_minor": 1
}
